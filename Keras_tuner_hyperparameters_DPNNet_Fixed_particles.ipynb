{
  "nbformat": 4,
  "nbformat_minor": 0,
  "metadata": {
    "colab": {
      "name": "Keras_tuner_hyperparameters_DPNNet_Fixed_particles.ipynb",
      "provenance": [],
      "collapsed_sections": [],
      "include_colab_link": true
    },
    "kernelspec": {
      "display_name": "DNN_developement",
      "language": "python",
      "name": "dnn_developement"
    },
    "language_info": {
      "codemirror_mode": {
        "name": "ipython",
        "version": 3
      },
      "file_extension": ".py",
      "mimetype": "text/x-python",
      "name": "python",
      "nbconvert_exporter": "python",
      "pygments_lexer": "ipython3",
      "version": "3.7.3"
    }
  },
  "cells": [
    {
      "cell_type": "markdown",
      "metadata": {
        "id": "view-in-github",
        "colab_type": "text"
      },
      "source": [
        "<a href=\"https://colab.research.google.com/github/sauddy/DPNNet-Bayesian/blob/main/Keras_tuner_hyperparameters_DPNNet_Fixed_particles.ipynb\" target=\"_parent\"><img src=\"https://colab.research.google.com/assets/colab-badge.svg\" alt=\"Open In Colab\"/></a>"
      ]
    },
    {
      "cell_type": "code",
      "metadata": {
        "colab": {
          "base_uri": "https://localhost:8080/"
        },
        "id": "s3tvHL-Lb4fL",
        "outputId": "baedeb24-a8e5-457d-832a-de06cbd8e436"
      },
      "source": [
        "'''\n",
        "    This notebook is used to post-process the data obtained from the \n",
        "    FARGO3D simulations for the Disk-Planet interaction with Fixed particle size. \n",
        "    We shall build \"Disk Planet Neural Network - Bayesian\".\n",
        "\n",
        "    Objective : Is to tune the hyperparameters for the MLP \n",
        "                architecture used for the DPNNet-Bayesian using keras-tuner\n",
        "                Since we have updated our data and we will be \n",
        "                implementing Bayesian NN, we will tune the hyperparameters on \n",
        "                the regular MLP before implementing the BNN\n",
        "\n",
        "    Code : The code is modified from DPNNet-1.0\n",
        "    \n",
        "    Modification : 27 July 2021-- This script is same as the one used DPNNet-Bayesian\n",
        "    FIxed Particle simulations. We implement the hyperparameter tuning with keras-tuner\n",
        "\n",
        "    We have build a dpnnet_class in this updated version where we optimise the Network\n",
        "    over 100 trials\n",
        "\n",
        "    Links to the previous papers: \n",
        "    ArXiv Link : Paper1 :  https://arxiv.org/abs/2007.13779\n",
        "                 Paper2 :  https://arxiv.org/abs/2107.09086\n",
        "'''\n",
        "\n",
        "# Author :  Sayantan\n",
        "# Created : July 24 2021\n",
        "\n",
        "\n",
        "## Modules for data handling\n",
        "import glob\n",
        "import pandas as pd\n",
        "import numpy as np\n",
        "\n",
        "## Modules for plotting\n",
        "import matplotlib.pyplot as plt\n",
        "import seaborn as sns\n",
        "plt.rcParams['xtick.direction'] = 'in'\n",
        "plt.rcParams['ytick.direction'] = 'in'\n",
        "\n",
        "## Modules for tensorflow model development\n",
        "import tensorflow as tf\n",
        "import keras\n",
        "from tensorflow import keras\n",
        "from tensorflow.keras import layers\n",
        "from tensorflow.keras import regularizers\n",
        "\n",
        "\n",
        "\n",
        "print(tf.__version__)\n",
        "\n",
        "\n",
        "## new module additions for hyper parameter tuning\n",
        "!pip install  -U keras-tuner\n",
        "import keras_tuner as kt\n",
        "\n"
      ],
      "execution_count": null,
      "outputs": [
        {
          "output_type": "stream",
          "text": [
            "2.5.0\n",
            "Collecting keras-tuner\n",
            "  Downloading keras_tuner-1.0.3-py3-none-any.whl (96 kB)\n",
            "\u001b[K     |████████████████████████████████| 96 kB 3.0 MB/s \n",
            "\u001b[?25hRequirement already satisfied: tensorboard in /usr/local/lib/python3.7/dist-packages (from keras-tuner) (2.5.0)\n",
            "Requirement already satisfied: requests in /usr/local/lib/python3.7/dist-packages (from keras-tuner) (2.23.0)\n",
            "Requirement already satisfied: numpy in /usr/local/lib/python3.7/dist-packages (from keras-tuner) (1.19.5)\n",
            "Requirement already satisfied: packaging in /usr/local/lib/python3.7/dist-packages (from keras-tuner) (21.0)\n",
            "Collecting kt-legacy\n",
            "  Downloading kt-legacy-1.0.3.tar.gz (5.8 kB)\n",
            "Requirement already satisfied: ipython in /usr/local/lib/python3.7/dist-packages (from keras-tuner) (5.5.0)\n",
            "Requirement already satisfied: scipy in /usr/local/lib/python3.7/dist-packages (from keras-tuner) (1.4.1)\n",
            "Requirement already satisfied: pexpect in /usr/local/lib/python3.7/dist-packages (from ipython->keras-tuner) (4.8.0)\n",
            "Requirement already satisfied: traitlets>=4.2 in /usr/local/lib/python3.7/dist-packages (from ipython->keras-tuner) (5.0.5)\n",
            "Requirement already satisfied: simplegeneric>0.8 in /usr/local/lib/python3.7/dist-packages (from ipython->keras-tuner) (0.8.1)\n",
            "Requirement already satisfied: decorator in /usr/local/lib/python3.7/dist-packages (from ipython->keras-tuner) (4.4.2)\n",
            "Requirement already satisfied: setuptools>=18.5 in /usr/local/lib/python3.7/dist-packages (from ipython->keras-tuner) (57.2.0)\n",
            "Requirement already satisfied: prompt-toolkit<2.0.0,>=1.0.4 in /usr/local/lib/python3.7/dist-packages (from ipython->keras-tuner) (1.0.18)\n",
            "Requirement already satisfied: pickleshare in /usr/local/lib/python3.7/dist-packages (from ipython->keras-tuner) (0.7.5)\n",
            "Requirement already satisfied: pygments in /usr/local/lib/python3.7/dist-packages (from ipython->keras-tuner) (2.6.1)\n",
            "Requirement already satisfied: wcwidth in /usr/local/lib/python3.7/dist-packages (from prompt-toolkit<2.0.0,>=1.0.4->ipython->keras-tuner) (0.2.5)\n",
            "Requirement already satisfied: six>=1.9.0 in /usr/local/lib/python3.7/dist-packages (from prompt-toolkit<2.0.0,>=1.0.4->ipython->keras-tuner) (1.15.0)\n",
            "Requirement already satisfied: ipython-genutils in /usr/local/lib/python3.7/dist-packages (from traitlets>=4.2->ipython->keras-tuner) (0.2.0)\n",
            "Requirement already satisfied: pyparsing>=2.0.2 in /usr/local/lib/python3.7/dist-packages (from packaging->keras-tuner) (2.4.7)\n",
            "Requirement already satisfied: ptyprocess>=0.5 in /usr/local/lib/python3.7/dist-packages (from pexpect->ipython->keras-tuner) (0.7.0)\n",
            "Requirement already satisfied: urllib3!=1.25.0,!=1.25.1,<1.26,>=1.21.1 in /usr/local/lib/python3.7/dist-packages (from requests->keras-tuner) (1.24.3)\n",
            "Requirement already satisfied: certifi>=2017.4.17 in /usr/local/lib/python3.7/dist-packages (from requests->keras-tuner) (2021.5.30)\n",
            "Requirement already satisfied: chardet<4,>=3.0.2 in /usr/local/lib/python3.7/dist-packages (from requests->keras-tuner) (3.0.4)\n",
            "Requirement already satisfied: idna<3,>=2.5 in /usr/local/lib/python3.7/dist-packages (from requests->keras-tuner) (2.10)\n",
            "Requirement already satisfied: werkzeug>=0.11.15 in /usr/local/lib/python3.7/dist-packages (from tensorboard->keras-tuner) (1.0.1)\n",
            "Requirement already satisfied: google-auth-oauthlib<0.5,>=0.4.1 in /usr/local/lib/python3.7/dist-packages (from tensorboard->keras-tuner) (0.4.4)\n",
            "Requirement already satisfied: tensorboard-plugin-wit>=1.6.0 in /usr/local/lib/python3.7/dist-packages (from tensorboard->keras-tuner) (1.8.0)\n",
            "Requirement already satisfied: markdown>=2.6.8 in /usr/local/lib/python3.7/dist-packages (from tensorboard->keras-tuner) (3.3.4)\n",
            "Requirement already satisfied: tensorboard-data-server<0.7.0,>=0.6.0 in /usr/local/lib/python3.7/dist-packages (from tensorboard->keras-tuner) (0.6.1)\n",
            "Requirement already satisfied: google-auth<2,>=1.6.3 in /usr/local/lib/python3.7/dist-packages (from tensorboard->keras-tuner) (1.32.1)\n",
            "Requirement already satisfied: absl-py>=0.4 in /usr/local/lib/python3.7/dist-packages (from tensorboard->keras-tuner) (0.12.0)\n",
            "Requirement already satisfied: grpcio>=1.24.3 in /usr/local/lib/python3.7/dist-packages (from tensorboard->keras-tuner) (1.34.1)\n",
            "Requirement already satisfied: protobuf>=3.6.0 in /usr/local/lib/python3.7/dist-packages (from tensorboard->keras-tuner) (3.17.3)\n",
            "Requirement already satisfied: wheel>=0.26 in /usr/local/lib/python3.7/dist-packages (from tensorboard->keras-tuner) (0.36.2)\n",
            "Requirement already satisfied: cachetools<5.0,>=2.0.0 in /usr/local/lib/python3.7/dist-packages (from google-auth<2,>=1.6.3->tensorboard->keras-tuner) (4.2.2)\n",
            "Requirement already satisfied: rsa<5,>=3.1.4 in /usr/local/lib/python3.7/dist-packages (from google-auth<2,>=1.6.3->tensorboard->keras-tuner) (4.7.2)\n",
            "Requirement already satisfied: pyasn1-modules>=0.2.1 in /usr/local/lib/python3.7/dist-packages (from google-auth<2,>=1.6.3->tensorboard->keras-tuner) (0.2.8)\n",
            "Requirement already satisfied: requests-oauthlib>=0.7.0 in /usr/local/lib/python3.7/dist-packages (from google-auth-oauthlib<0.5,>=0.4.1->tensorboard->keras-tuner) (1.3.0)\n",
            "Requirement already satisfied: importlib-metadata in /usr/local/lib/python3.7/dist-packages (from markdown>=2.6.8->tensorboard->keras-tuner) (4.6.1)\n",
            "Requirement already satisfied: pyasn1<0.5.0,>=0.4.6 in /usr/local/lib/python3.7/dist-packages (from pyasn1-modules>=0.2.1->google-auth<2,>=1.6.3->tensorboard->keras-tuner) (0.4.8)\n",
            "Requirement already satisfied: oauthlib>=3.0.0 in /usr/local/lib/python3.7/dist-packages (from requests-oauthlib>=0.7.0->google-auth-oauthlib<0.5,>=0.4.1->tensorboard->keras-tuner) (3.1.1)\n",
            "Requirement already satisfied: typing-extensions>=3.6.4 in /usr/local/lib/python3.7/dist-packages (from importlib-metadata->markdown>=2.6.8->tensorboard->keras-tuner) (3.7.4.3)\n",
            "Requirement already satisfied: zipp>=0.5 in /usr/local/lib/python3.7/dist-packages (from importlib-metadata->markdown>=2.6.8->tensorboard->keras-tuner) (3.5.0)\n",
            "Building wheels for collected packages: kt-legacy\n",
            "  Building wheel for kt-legacy (setup.py) ... \u001b[?25l\u001b[?25hdone\n",
            "  Created wheel for kt-legacy: filename=kt_legacy-1.0.3-py3-none-any.whl size=9568 sha256=cde52bac7b75af8ef7c5ba679afdb0c3cc57e766a1c3efb561005526708c3491\n",
            "  Stored in directory: /root/.cache/pip/wheels/38/5c/e0/13003e68c17f403af40b92a24d20171b95fef13b0fdaba833c\n",
            "Successfully built kt-legacy\n",
            "Installing collected packages: kt-legacy, keras-tuner\n",
            "Successfully installed keras-tuner-1.0.3 kt-legacy-1.0.3\n"
          ],
          "name": "stdout"
        }
      ]
    },
    {
      "cell_type": "code",
      "metadata": {
        "colab": {
          "base_uri": "https://localhost:8080/"
        },
        "id": "_HDYn0RNcKA2",
        "outputId": "01b1b83f-a26e-4dd6-de60-07a2d99993d4"
      },
      "source": [
        "from google.colab import drive\n",
        "drive.mount('/content/drive')"
      ],
      "execution_count": null,
      "outputs": [
        {
          "output_type": "stream",
          "text": [
            "Mounted at /content/drive\n"
          ],
          "name": "stdout"
        }
      ]
    },
    {
      "cell_type": "code",
      "metadata": {
        "colab": {
          "base_uri": "https://localhost:8080/"
        },
        "id": "Rv25QtPwb4fQ",
        "outputId": "4cbcb16a-89c6-445a-8bc6-f17a15858cc3"
      },
      "source": [
        "Path_gdrive= '/content/drive/MyDrive/DPNNet_FP/FP_bayesian_MLP_version/'\n",
        "import os\n",
        "os.chdir(Path_gdrive)\n",
        "\n",
        "## Import the dpnnet_class\n",
        "import dpnnet_class as dp\n",
        "print(\"Creating the folders\")\n",
        "## Folders to save the filtered data\n",
        "!mkdir -p data_folder\n",
        "!mkdir -p figures ## to save the figures"
      ],
      "execution_count": null,
      "outputs": [
        {
          "output_type": "stream",
          "text": [
            "We have imported the dpnnet_class\n",
            "Creating the folders\n"
          ],
          "name": "stdout"
        }
      ]
    },
    {
      "cell_type": "code",
      "metadata": {
        "colab": {
          "base_uri": "https://localhost:8080/",
          "height": 419
        },
        "id": "ON6j5l6Eb4fR",
        "outputId": "b3e9426f-318f-41df-b3d2-dd0a9a299fd1"
      },
      "source": [
        "# ### Data preparation if raw darta is provided otherwise use the next kernel for saved filtered data directly ###\n",
        "\n",
        "# dataset_path = '/content/drive/MyDrive/DPNNet_FP/Fixed_particle_data/'\n",
        "# dataset_path ='/content/drive/MyDrive/DPNNet_FP/fixed_particle_data_21June/'\n",
        "dataset_path ='/content/drive/MyDrive/DPNNet_FP/analysis_output_3000_FI/'\n",
        "\n",
        "Model = dp.dpnnet(data_path=dataset_path)\n",
        "dataset = Model.data_filtering()\n",
        "\n",
        "\n",
        "dataset        # to take a look at the dataset "
      ],
      "execution_count": null,
      "outputs": [
        {
          "output_type": "execute_result",
          "data": {
            "text/html": [
              "<div>\n",
              "<style scoped>\n",
              "    .dataframe tbody tr th:only-of-type {\n",
              "        vertical-align: middle;\n",
              "    }\n",
              "\n",
              "    .dataframe tbody tr th {\n",
              "        vertical-align: top;\n",
              "    }\n",
              "\n",
              "    .dataframe thead th {\n",
              "        text-align: right;\n",
              "    }\n",
              "</style>\n",
              "<table border=\"1\" class=\"dataframe\">\n",
              "  <thead>\n",
              "    <tr style=\"text-align: right;\">\n",
              "      <th></th>\n",
              "      <th>Planet_Mass</th>\n",
              "      <th>Epsilon</th>\n",
              "      <th>Alpha</th>\n",
              "      <th>Stokes</th>\n",
              "      <th>Aspect_Ratio</th>\n",
              "      <th>SigmaSlope</th>\n",
              "      <th>Dust_gap_1</th>\n",
              "      <th>Dust_gap_2</th>\n",
              "      <th>Flaring_index</th>\n",
              "    </tr>\n",
              "  </thead>\n",
              "  <tbody>\n",
              "    <tr>\n",
              "      <th>0</th>\n",
              "      <td>95.666667</td>\n",
              "      <td>0.0980</td>\n",
              "      <td>0.00341</td>\n",
              "      <td>0.0342</td>\n",
              "      <td>0.0362</td>\n",
              "      <td>1.0600</td>\n",
              "      <td>0.826</td>\n",
              "      <td>0.00</td>\n",
              "      <td>0.0785</td>\n",
              "    </tr>\n",
              "    <tr>\n",
              "      <th>1</th>\n",
              "      <td>95.000000</td>\n",
              "      <td>0.0299</td>\n",
              "      <td>0.00176</td>\n",
              "      <td>0.0146</td>\n",
              "      <td>0.0901</td>\n",
              "      <td>0.4920</td>\n",
              "      <td>0.547</td>\n",
              "      <td>0.15</td>\n",
              "      <td>0.1730</td>\n",
              "    </tr>\n",
              "    <tr>\n",
              "      <th>2</th>\n",
              "      <td>86.000000</td>\n",
              "      <td>0.0223</td>\n",
              "      <td>0.00894</td>\n",
              "      <td>0.0719</td>\n",
              "      <td>0.0558</td>\n",
              "      <td>0.4600</td>\n",
              "      <td>0.815</td>\n",
              "      <td>0.00</td>\n",
              "      <td>0.2310</td>\n",
              "    </tr>\n",
              "    <tr>\n",
              "      <th>3</th>\n",
              "      <td>49.000000</td>\n",
              "      <td>0.0579</td>\n",
              "      <td>0.00260</td>\n",
              "      <td>0.0128</td>\n",
              "      <td>0.0494</td>\n",
              "      <td>0.9580</td>\n",
              "      <td>0.773</td>\n",
              "      <td>0.00</td>\n",
              "      <td>0.1060</td>\n",
              "    </tr>\n",
              "    <tr>\n",
              "      <th>4</th>\n",
              "      <td>37.666667</td>\n",
              "      <td>0.0520</td>\n",
              "      <td>0.00394</td>\n",
              "      <td>0.0941</td>\n",
              "      <td>0.0275</td>\n",
              "      <td>0.1300</td>\n",
              "      <td>0.818</td>\n",
              "      <td>0.00</td>\n",
              "      <td>0.1780</td>\n",
              "    </tr>\n",
              "    <tr>\n",
              "      <th>...</th>\n",
              "      <td>...</td>\n",
              "      <td>...</td>\n",
              "      <td>...</td>\n",
              "      <td>...</td>\n",
              "      <td>...</td>\n",
              "      <td>...</td>\n",
              "      <td>...</td>\n",
              "      <td>...</td>\n",
              "      <td>...</td>\n",
              "    </tr>\n",
              "    <tr>\n",
              "      <th>1108</th>\n",
              "      <td>87.000000</td>\n",
              "      <td>0.0905</td>\n",
              "      <td>0.00441</td>\n",
              "      <td>0.0956</td>\n",
              "      <td>0.0531</td>\n",
              "      <td>0.1810</td>\n",
              "      <td>0.916</td>\n",
              "      <td>0.00</td>\n",
              "      <td>0.1660</td>\n",
              "    </tr>\n",
              "    <tr>\n",
              "      <th>1109</th>\n",
              "      <td>54.000000</td>\n",
              "      <td>0.0978</td>\n",
              "      <td>0.00993</td>\n",
              "      <td>0.0749</td>\n",
              "      <td>0.0560</td>\n",
              "      <td>0.0832</td>\n",
              "      <td>0.753</td>\n",
              "      <td>0.00</td>\n",
              "      <td>0.0329</td>\n",
              "    </tr>\n",
              "    <tr>\n",
              "      <th>1110</th>\n",
              "      <td>91.333333</td>\n",
              "      <td>0.0220</td>\n",
              "      <td>0.00758</td>\n",
              "      <td>0.0801</td>\n",
              "      <td>0.0685</td>\n",
              "      <td>0.5080</td>\n",
              "      <td>0.773</td>\n",
              "      <td>0.00</td>\n",
              "      <td>0.1110</td>\n",
              "    </tr>\n",
              "    <tr>\n",
              "      <th>1111</th>\n",
              "      <td>102.000000</td>\n",
              "      <td>0.0209</td>\n",
              "      <td>0.00347</td>\n",
              "      <td>0.0871</td>\n",
              "      <td>0.0331</td>\n",
              "      <td>0.8290</td>\n",
              "      <td>0.853</td>\n",
              "      <td>0.00</td>\n",
              "      <td>0.0121</td>\n",
              "    </tr>\n",
              "    <tr>\n",
              "      <th>1112</th>\n",
              "      <td>100.000000</td>\n",
              "      <td>0.0395</td>\n",
              "      <td>0.00571</td>\n",
              "      <td>0.0114</td>\n",
              "      <td>0.0571</td>\n",
              "      <td>1.2200</td>\n",
              "      <td>0.759</td>\n",
              "      <td>0.00</td>\n",
              "      <td>0.0109</td>\n",
              "    </tr>\n",
              "  </tbody>\n",
              "</table>\n",
              "<p>1098 rows × 9 columns</p>\n",
              "</div>"
            ],
            "text/plain": [
              "      Planet_Mass  Epsilon    Alpha  ...  Dust_gap_1  Dust_gap_2  Flaring_index\n",
              "0       95.666667   0.0980  0.00341  ...       0.826        0.00         0.0785\n",
              "1       95.000000   0.0299  0.00176  ...       0.547        0.15         0.1730\n",
              "2       86.000000   0.0223  0.00894  ...       0.815        0.00         0.2310\n",
              "3       49.000000   0.0579  0.00260  ...       0.773        0.00         0.1060\n",
              "4       37.666667   0.0520  0.00394  ...       0.818        0.00         0.1780\n",
              "...           ...      ...      ...  ...         ...         ...            ...\n",
              "1108    87.000000   0.0905  0.00441  ...       0.916        0.00         0.1660\n",
              "1109    54.000000   0.0978  0.00993  ...       0.753        0.00         0.0329\n",
              "1110    91.333333   0.0220  0.00758  ...       0.773        0.00         0.1110\n",
              "1111   102.000000   0.0209  0.00347  ...       0.853        0.00         0.0121\n",
              "1112   100.000000   0.0395  0.00571  ...       0.759        0.00         0.0109\n",
              "\n",
              "[1098 rows x 9 columns]"
            ]
          },
          "metadata": {
            "tags": []
          },
          "execution_count": 4
        }
      ]
    },
    {
      "cell_type": "code",
      "metadata": {
        "colab": {
          "base_uri": "https://localhost:8080/"
        },
        "id": "rPiysaQTggln",
        "outputId": "b22885d9-ab74-453e-f13e-931296930d4e"
      },
      "source": [
        "X_train_scaled, X_test_scaled, y_train, y_test = Model.data_processing()\n",
        "# X_train_scaled\n"
      ],
      "execution_count": null,
      "outputs": [
        {
          "output_type": "stream",
          "text": [
            "The feature variables are normalized for better scaling\n",
            "[INFO] data processing done, returns the splitted data...\n",
            "[INFO] X_train and X_test data are normalized ...\n"
          ],
          "name": "stdout"
        }
      ]
    },
    {
      "cell_type": "code",
      "metadata": {
        "id": "VrudMV05T4f5"
      },
      "source": [
        "## Building the DPNNet MLP model for keras tuner##\n",
        "\n",
        "def build_model(hp):\n",
        "  model = keras.Sequential()\n",
        "  model.add(layers.Flatten(input_shape=[len(X_train_scaled.keys())]))\n",
        "\n",
        "  model.add(layers.Dense(units=hp.Int('unit1',min_value = 32,max_value= 256,step=32), activation=tf.nn.relu,kernel_regularizer=regularizers.l2(0.0001),input_shape=[len(X_train_scaled.keys())]))\n",
        "  model.add(layers.Dense(units=hp.Int('unit2',min_value = 32,max_value= 256,step=32), activation=tf.nn.relu,kernel_regularizer=regularizers.l2(0.0001)))\n",
        "  # model.add(layers.Dense(1))\n",
        "  \n",
        "  \n",
        "  # for i in range(hp.Int('layers',2,4)):\n",
        "  #   model.add(layers.Dense(units=hp.Int('unit'+str(i),min_value = 32,max_value= 256,step=32), activation=tf.nn.relu,kernel_regularizer=regularizers.l2(0.0001)))\n",
        "  model.add(layers.Dense(1))\n",
        "  \n",
        "  model.compile(loss='mean_squared_error',\n",
        "                optimizer=keras.optimizers.Adam(hp.Choice('learning_rate',values=[1e-3,1e-4])) , metrics=['mean_absolute_error', 'mean_squared_error'])\n",
        "  return model"
      ],
      "execution_count": null,
      "outputs": []
    },
    {
      "cell_type": "code",
      "metadata": {
        "id": "lQ9vT13XJssu"
      },
      "source": [
        "## using keras tuner to explore the hyperparameter space\n",
        "## Select the Number of Trials\n",
        "early_stop = keras.callbacks.EarlyStopping(monitor='val_loss', patience=10) ## early stopping is used to minimize overfitting\n",
        "tuner = kt.RandomSearch(\n",
        "    build_model,\n",
        "    objective='val_loss',\n",
        "    max_trials=100,executions_per_trial=2, directory='Tuner_Model',project_name='DPNNet_Bayesian')\n"
      ],
      "execution_count": null,
      "outputs": []
    },
    {
      "cell_type": "code",
      "metadata": {
        "colab": {
          "base_uri": "https://localhost:8080/"
        },
        "id": "So3M97uxcEyn",
        "outputId": "ad90c8a9-5d08-4e33-9574-a565ec0601e1"
      },
      "source": [
        "tuner.search_space_summary() ## checking the summary"
      ],
      "execution_count": null,
      "outputs": [
        {
          "output_type": "stream",
          "text": [
            "Search space summary\n",
            "Default search space size: 3\n",
            "unit1 (Int)\n",
            "{'default': None, 'conditions': [], 'min_value': 32, 'max_value': 256, 'step': 32, 'sampling': None}\n",
            "unit2 (Int)\n",
            "{'default': None, 'conditions': [], 'min_value': 32, 'max_value': 256, 'step': 32, 'sampling': None}\n",
            "learning_rate (Choice)\n",
            "{'default': 0.001, 'conditions': [], 'values': [0.001, 0.0001], 'ordered': True}\n"
          ],
          "name": "stdout"
        }
      ]
    },
    {
      "cell_type": "code",
      "metadata": {
        "colab": {
          "base_uri": "https://localhost:8080/"
        },
        "id": "74WWRdkZcKoq",
        "outputId": "b2e48c7d-46d7-4b8e-d201-428ccc01f647"
      },
      "source": [
        "## Select the Epoch and the Validation Split\n",
        "tuner.search(X_train_scaled,y_train,epochs=1000,validation_split = 0.2, verbose=1,callbacks=[early_stop])"
      ],
      "execution_count": null,
      "outputs": [
        {
          "output_type": "stream",
          "text": [
            "Trial 64 Complete [00h 02m 00s]\n",
            "val_loss: 272.4387969970703\n",
            "\n",
            "Best val_loss So Far: 257.19139862060547\n",
            "Total elapsed time: 01h 37m 26s\n",
            "INFO:tensorflow:Oracle triggered exit\n"
          ],
          "name": "stdout"
        }
      ]
    },
    {
      "cell_type": "code",
      "metadata": {
        "id": "tZxaKJdFckev",
        "colab": {
          "base_uri": "https://localhost:8080/"
        },
        "outputId": "49abbd1d-93e9-47ac-cf0e-223dbc1c86d7"
      },
      "source": [
        "tuner.results_summary() ## the best 10 models"
      ],
      "execution_count": null,
      "outputs": [
        {
          "output_type": "stream",
          "text": [
            "Results summary\n",
            "Results in Tuner_Model/DPNNet_Bayesian\n",
            "Showing 10 best trials\n",
            "Objective(name='val_loss', direction='min')\n",
            "Trial summary\n",
            "Hyperparameters:\n",
            "unit1: 32\n",
            "unit2: 224\n",
            "learning_rate: 0.001\n",
            "Score: 257.19139862060547\n",
            "Trial summary\n",
            "Hyperparameters:\n",
            "unit1: 64\n",
            "unit2: 128\n",
            "learning_rate: 0.001\n",
            "Score: 257.73780059814453\n",
            "Trial summary\n",
            "Hyperparameters:\n",
            "unit1: 64\n",
            "unit2: 64\n",
            "learning_rate: 0.001\n",
            "Score: 260.3539733886719\n",
            "Trial summary\n",
            "Hyperparameters:\n",
            "unit1: 224\n",
            "unit2: 160\n",
            "learning_rate: 0.001\n",
            "Score: 262.59178161621094\n",
            "Trial summary\n",
            "Hyperparameters:\n",
            "unit1: 160\n",
            "unit2: 96\n",
            "learning_rate: 0.001\n",
            "Score: 264.2572937011719\n",
            "Trial summary\n",
            "Hyperparameters:\n",
            "unit1: 64\n",
            "unit2: 192\n",
            "learning_rate: 0.001\n",
            "Score: 264.53639221191406\n",
            "Trial summary\n",
            "Hyperparameters:\n",
            "unit1: 160\n",
            "unit2: 160\n",
            "learning_rate: 0.001\n",
            "Score: 264.5674133300781\n",
            "Trial summary\n",
            "Hyperparameters:\n",
            "unit1: 256\n",
            "unit2: 64\n",
            "learning_rate: 0.001\n",
            "Score: 264.6504211425781\n",
            "Trial summary\n",
            "Hyperparameters:\n",
            "unit1: 128\n",
            "unit2: 224\n",
            "learning_rate: 0.001\n",
            "Score: 265.53125\n",
            "Trial summary\n",
            "Hyperparameters:\n",
            "unit1: 160\n",
            "unit2: 224\n",
            "learning_rate: 0.0001\n",
            "Score: 266.1654357910156\n"
          ],
          "name": "stdout"
        }
      ]
    },
    {
      "cell_type": "code",
      "metadata": {
        "id": "blCTNVCCm9xV",
        "colab": {
          "base_uri": "https://localhost:8080/"
        },
        "outputId": "e7d91e0d-7648-4b8b-a9af-4f13c60cd626"
      },
      "source": [
        "print(tuner.get_best_hyperparameters()[0].values)\n",
        "best_hp = tuner.get_best_hyperparameters()[0]\n",
        "best_hp['learning_rate']\n",
        "# model = tuner.hypermodel.build(best_hp)"
      ],
      "execution_count": null,
      "outputs": [
        {
          "output_type": "stream",
          "text": [
            "{'unit1': 32, 'unit2': 224, 'learning_rate': 0.001}\n"
          ],
          "name": "stdout"
        },
        {
          "output_type": "execute_result",
          "data": {
            "text/plain": [
              "0.001"
            ]
          },
          "metadata": {
            "tags": []
          },
          "execution_count": 11
        }
      ]
    },
    {
      "cell_type": "code",
      "metadata": {
        "id": "SlSibRyRrP47",
        "colab": {
          "base_uri": "https://localhost:8080/"
        },
        "outputId": "a074b669-78bf-44a7-b66c-453b8da01ffe"
      },
      "source": [
        "# ## Train the best model\n",
        "# best_model = tuner.get_best_models()[0]\n",
        "# best_model.build()\n",
        "# best_model.summary()\n",
        "# model = best_model\n",
        "\n",
        "model = Model.build_model(unit1=best_hp['unit1'],unit2=best_hp['unit2'],learning_rate =best_hp['learning_rate'] )\n",
        "history = model.fit(X_train_scaled,y_train,epochs=1000,validation_split = 0.2, verbose=1,callbacks=[early_stop])\n"
      ],
      "execution_count": null,
      "outputs": [
        {
          "output_type": "stream",
          "text": [
            "We are now using the DPNNet Architecture\n",
            "The feature variables are normalized for better scaling\n",
            "[INFO] data processing done, returns the splitted data...\n",
            "[INFO] X_train and X_test data are normalized ...\n",
            "Epoch 1/1000\n",
            "22/22 [==============================] - 20s 29ms/step - loss: 6042.7412 - mean_absolute_error: 72.4916 - mean_squared_error: 6042.7412 - val_loss: 6027.1792 - val_mean_absolute_error: 70.9590 - val_mean_squared_error: 6027.1792\n",
            "Epoch 2/1000\n",
            "22/22 [==============================] - 0s 3ms/step - loss: 5805.0426 - mean_absolute_error: 70.6211 - mean_squared_error: 5805.0426 - val_loss: 5400.7251 - val_mean_absolute_error: 66.4531 - val_mean_squared_error: 5400.7251\n",
            "Epoch 3/1000\n",
            "22/22 [==============================] - 0s 3ms/step - loss: 4925.1514 - mean_absolute_error: 64.1681 - mean_squared_error: 4925.1514 - val_loss: 4280.5068 - val_mean_absolute_error: 57.7006 - val_mean_squared_error: 4280.5068\n",
            "Epoch 4/1000\n",
            "22/22 [==============================] - 0s 3ms/step - loss: 3806.8347 - mean_absolute_error: 55.0947 - mean_squared_error: 3806.8347 - val_loss: 2809.7458 - val_mean_absolute_error: 45.3624 - val_mean_squared_error: 2809.7458\n",
            "Epoch 5/1000\n",
            "22/22 [==============================] - 0s 3ms/step - loss: 2504.4654 - mean_absolute_error: 43.0593 - mean_squared_error: 2504.4654 - val_loss: 1525.9015 - val_mean_absolute_error: 32.6717 - val_mean_squared_error: 1525.9015\n",
            "Epoch 6/1000\n",
            "22/22 [==============================] - 0s 3ms/step - loss: 1267.5167 - mean_absolute_error: 30.0365 - mean_squared_error: 1267.5167 - val_loss: 958.9210 - val_mean_absolute_error: 25.4679 - val_mean_squared_error: 958.9210\n",
            "Epoch 7/1000\n",
            "22/22 [==============================] - 0s 3ms/step - loss: 904.0606 - mean_absolute_error: 25.6281 - mean_squared_error: 904.0606 - val_loss: 808.1926 - val_mean_absolute_error: 23.7119 - val_mean_squared_error: 808.1926\n",
            "Epoch 8/1000\n",
            "22/22 [==============================] - 0s 3ms/step - loss: 777.9568 - mean_absolute_error: 22.8420 - mean_squared_error: 777.9568 - val_loss: 717.4727 - val_mean_absolute_error: 22.4042 - val_mean_squared_error: 717.4727\n",
            "Epoch 9/1000\n",
            "22/22 [==============================] - 0s 4ms/step - loss: 726.1177 - mean_absolute_error: 21.9473 - mean_squared_error: 726.1177 - val_loss: 659.4609 - val_mean_absolute_error: 21.4591 - val_mean_squared_error: 659.4609\n",
            "Epoch 10/1000\n",
            "22/22 [==============================] - 0s 4ms/step - loss: 622.7719 - mean_absolute_error: 20.3949 - mean_squared_error: 622.7719 - val_loss: 621.3741 - val_mean_absolute_error: 20.7465 - val_mean_squared_error: 621.3741\n",
            "Epoch 11/1000\n",
            "22/22 [==============================] - 0s 3ms/step - loss: 624.6545 - mean_absolute_error: 20.4254 - mean_squared_error: 624.6545 - val_loss: 596.4265 - val_mean_absolute_error: 20.1890 - val_mean_squared_error: 596.4265\n",
            "Epoch 12/1000\n",
            "22/22 [==============================] - 0s 4ms/step - loss: 608.7263 - mean_absolute_error: 20.4840 - mean_squared_error: 608.7263 - val_loss: 573.3111 - val_mean_absolute_error: 19.7284 - val_mean_squared_error: 573.3111\n",
            "Epoch 13/1000\n",
            "22/22 [==============================] - 0s 3ms/step - loss: 595.8069 - mean_absolute_error: 20.1214 - mean_squared_error: 595.8069 - val_loss: 559.2136 - val_mean_absolute_error: 19.3944 - val_mean_squared_error: 559.2136\n",
            "Epoch 14/1000\n",
            "22/22 [==============================] - 0s 3ms/step - loss: 492.9445 - mean_absolute_error: 18.1011 - mean_squared_error: 492.9445 - val_loss: 545.5204 - val_mean_absolute_error: 19.1066 - val_mean_squared_error: 545.5204\n",
            "Epoch 15/1000\n",
            "22/22 [==============================] - 0s 4ms/step - loss: 559.7784 - mean_absolute_error: 19.5957 - mean_squared_error: 559.7784 - val_loss: 533.8412 - val_mean_absolute_error: 18.8759 - val_mean_squared_error: 533.8412\n",
            "Epoch 16/1000\n",
            "22/22 [==============================] - 0s 3ms/step - loss: 538.9290 - mean_absolute_error: 18.8212 - mean_squared_error: 538.9290 - val_loss: 522.0598 - val_mean_absolute_error: 18.5893 - val_mean_squared_error: 522.0598\n",
            "Epoch 17/1000\n",
            "22/22 [==============================] - 0s 4ms/step - loss: 508.5273 - mean_absolute_error: 18.4277 - mean_squared_error: 508.5273 - val_loss: 517.4092 - val_mean_absolute_error: 18.4630 - val_mean_squared_error: 517.4092\n",
            "Epoch 18/1000\n",
            "22/22 [==============================] - 0s 3ms/step - loss: 506.1134 - mean_absolute_error: 18.1025 - mean_squared_error: 506.1134 - val_loss: 506.7204 - val_mean_absolute_error: 18.2430 - val_mean_squared_error: 506.7204\n",
            "Epoch 19/1000\n",
            "22/22 [==============================] - 0s 3ms/step - loss: 469.9044 - mean_absolute_error: 17.7023 - mean_squared_error: 469.9044 - val_loss: 500.9220 - val_mean_absolute_error: 18.1005 - val_mean_squared_error: 500.9220\n",
            "Epoch 20/1000\n",
            "22/22 [==============================] - 0s 4ms/step - loss: 490.3199 - mean_absolute_error: 18.0778 - mean_squared_error: 490.3199 - val_loss: 493.5697 - val_mean_absolute_error: 17.9135 - val_mean_squared_error: 493.5697\n",
            "Epoch 21/1000\n",
            "22/22 [==============================] - 0s 4ms/step - loss: 503.4941 - mean_absolute_error: 18.0336 - mean_squared_error: 503.4941 - val_loss: 481.4925 - val_mean_absolute_error: 17.7012 - val_mean_squared_error: 481.4925\n",
            "Epoch 22/1000\n",
            "22/22 [==============================] - 0s 3ms/step - loss: 496.4488 - mean_absolute_error: 18.0315 - mean_squared_error: 496.4488 - val_loss: 479.1058 - val_mean_absolute_error: 17.6338 - val_mean_squared_error: 479.1058\n",
            "Epoch 23/1000\n",
            "22/22 [==============================] - 0s 3ms/step - loss: 487.3257 - mean_absolute_error: 17.9016 - mean_squared_error: 487.3257 - val_loss: 469.8585 - val_mean_absolute_error: 17.4677 - val_mean_squared_error: 469.8585\n",
            "Epoch 24/1000\n",
            "22/22 [==============================] - 0s 3ms/step - loss: 451.4868 - mean_absolute_error: 17.3025 - mean_squared_error: 451.4868 - val_loss: 463.5071 - val_mean_absolute_error: 17.3085 - val_mean_squared_error: 463.5071\n",
            "Epoch 25/1000\n",
            "22/22 [==============================] - 0s 3ms/step - loss: 437.1830 - mean_absolute_error: 17.0278 - mean_squared_error: 437.1830 - val_loss: 456.0069 - val_mean_absolute_error: 17.1445 - val_mean_squared_error: 456.0069\n",
            "Epoch 26/1000\n",
            "22/22 [==============================] - 0s 3ms/step - loss: 434.5139 - mean_absolute_error: 16.7906 - mean_squared_error: 434.5139 - val_loss: 453.1523 - val_mean_absolute_error: 17.0830 - val_mean_squared_error: 453.1523\n",
            "Epoch 27/1000\n",
            "22/22 [==============================] - 0s 3ms/step - loss: 402.3615 - mean_absolute_error: 16.3263 - mean_squared_error: 402.3615 - val_loss: 444.9170 - val_mean_absolute_error: 16.8754 - val_mean_squared_error: 444.9170\n",
            "Epoch 28/1000\n",
            "22/22 [==============================] - 0s 3ms/step - loss: 424.4830 - mean_absolute_error: 16.8081 - mean_squared_error: 424.4830 - val_loss: 442.2925 - val_mean_absolute_error: 16.7920 - val_mean_squared_error: 442.2925\n",
            "Epoch 29/1000\n",
            "22/22 [==============================] - 0s 2ms/step - loss: 397.1109 - mean_absolute_error: 15.9208 - mean_squared_error: 397.1109 - val_loss: 435.1193 - val_mean_absolute_error: 16.6369 - val_mean_squared_error: 435.1193\n",
            "Epoch 30/1000\n",
            "22/22 [==============================] - 0s 3ms/step - loss: 432.9212 - mean_absolute_error: 16.6875 - mean_squared_error: 432.9212 - val_loss: 426.4603 - val_mean_absolute_error: 16.4838 - val_mean_squared_error: 426.4603\n",
            "Epoch 31/1000\n",
            "22/22 [==============================] - 0s 3ms/step - loss: 408.1419 - mean_absolute_error: 16.4111 - mean_squared_error: 408.1419 - val_loss: 425.4333 - val_mean_absolute_error: 16.4195 - val_mean_squared_error: 425.4333\n",
            "Epoch 32/1000\n",
            "22/22 [==============================] - 0s 4ms/step - loss: 385.0068 - mean_absolute_error: 15.9433 - mean_squared_error: 385.0068 - val_loss: 415.8523 - val_mean_absolute_error: 16.2446 - val_mean_squared_error: 415.8523\n",
            "Epoch 33/1000\n",
            "22/22 [==============================] - 0s 4ms/step - loss: 397.9751 - mean_absolute_error: 15.9698 - mean_squared_error: 397.9751 - val_loss: 411.1384 - val_mean_absolute_error: 16.1203 - val_mean_squared_error: 411.1384\n",
            "Epoch 34/1000\n",
            "22/22 [==============================] - 0s 4ms/step - loss: 382.3107 - mean_absolute_error: 15.6466 - mean_squared_error: 382.3107 - val_loss: 406.0603 - val_mean_absolute_error: 16.0174 - val_mean_squared_error: 406.0603\n",
            "Epoch 35/1000\n",
            "22/22 [==============================] - 0s 3ms/step - loss: 406.0736 - mean_absolute_error: 15.9820 - mean_squared_error: 406.0736 - val_loss: 400.5924 - val_mean_absolute_error: 15.8958 - val_mean_squared_error: 400.5924\n",
            "Epoch 36/1000\n",
            "22/22 [==============================] - 0s 3ms/step - loss: 361.9342 - mean_absolute_error: 15.2006 - mean_squared_error: 361.9342 - val_loss: 393.8445 - val_mean_absolute_error: 15.7121 - val_mean_squared_error: 393.8445\n",
            "Epoch 37/1000\n",
            "22/22 [==============================] - 0s 3ms/step - loss: 365.5772 - mean_absolute_error: 15.1082 - mean_squared_error: 365.5772 - val_loss: 392.4330 - val_mean_absolute_error: 15.6608 - val_mean_squared_error: 392.4330\n",
            "Epoch 38/1000\n",
            "22/22 [==============================] - 0s 3ms/step - loss: 385.2216 - mean_absolute_error: 15.8781 - mean_squared_error: 385.2216 - val_loss: 388.7750 - val_mean_absolute_error: 15.5697 - val_mean_squared_error: 388.7750\n",
            "Epoch 39/1000\n",
            "22/22 [==============================] - 0s 3ms/step - loss: 368.4640 - mean_absolute_error: 15.1954 - mean_squared_error: 368.4640 - val_loss: 379.0255 - val_mean_absolute_error: 15.3650 - val_mean_squared_error: 379.0255\n",
            "Epoch 40/1000\n",
            "22/22 [==============================] - 0s 3ms/step - loss: 368.0028 - mean_absolute_error: 15.5941 - mean_squared_error: 368.0028 - val_loss: 375.6934 - val_mean_absolute_error: 15.2565 - val_mean_squared_error: 375.6934\n",
            "Epoch 41/1000\n",
            "22/22 [==============================] - 0s 4ms/step - loss: 356.9201 - mean_absolute_error: 14.9862 - mean_squared_error: 356.9201 - val_loss: 371.1111 - val_mean_absolute_error: 15.1531 - val_mean_squared_error: 371.1111\n",
            "Epoch 42/1000\n",
            "22/22 [==============================] - 0s 3ms/step - loss: 318.8398 - mean_absolute_error: 14.2695 - mean_squared_error: 318.8398 - val_loss: 368.0865 - val_mean_absolute_error: 15.0344 - val_mean_squared_error: 368.0865\n",
            "Epoch 43/1000\n",
            "22/22 [==============================] - 0s 4ms/step - loss: 336.1132 - mean_absolute_error: 14.5823 - mean_squared_error: 336.1132 - val_loss: 361.9033 - val_mean_absolute_error: 14.9042 - val_mean_squared_error: 361.9033\n",
            "Epoch 44/1000\n",
            "22/22 [==============================] - 0s 3ms/step - loss: 310.9497 - mean_absolute_error: 14.2973 - mean_squared_error: 310.9497 - val_loss: 358.3567 - val_mean_absolute_error: 14.8398 - val_mean_squared_error: 358.3567\n",
            "Epoch 45/1000\n",
            "22/22 [==============================] - 0s 3ms/step - loss: 326.6936 - mean_absolute_error: 14.3741 - mean_squared_error: 326.6936 - val_loss: 354.0309 - val_mean_absolute_error: 14.6992 - val_mean_squared_error: 354.0309\n",
            "Epoch 46/1000\n",
            "22/22 [==============================] - 0s 4ms/step - loss: 315.3799 - mean_absolute_error: 13.9570 - mean_squared_error: 315.3799 - val_loss: 353.3620 - val_mean_absolute_error: 14.6825 - val_mean_squared_error: 353.3620\n",
            "Epoch 47/1000\n",
            "22/22 [==============================] - 0s 3ms/step - loss: 306.7691 - mean_absolute_error: 14.1813 - mean_squared_error: 306.7691 - val_loss: 345.7015 - val_mean_absolute_error: 14.4298 - val_mean_squared_error: 345.7015\n",
            "Epoch 48/1000\n",
            "22/22 [==============================] - 0s 4ms/step - loss: 294.7624 - mean_absolute_error: 13.2378 - mean_squared_error: 294.7624 - val_loss: 343.3582 - val_mean_absolute_error: 14.4812 - val_mean_squared_error: 343.3582\n",
            "Epoch 49/1000\n",
            "22/22 [==============================] - 0s 5ms/step - loss: 278.7609 - mean_absolute_error: 13.2142 - mean_squared_error: 278.7609 - val_loss: 342.1920 - val_mean_absolute_error: 14.3596 - val_mean_squared_error: 342.1920\n",
            "Epoch 50/1000\n",
            "22/22 [==============================] - 0s 3ms/step - loss: 311.9133 - mean_absolute_error: 14.0201 - mean_squared_error: 311.9133 - val_loss: 338.9605 - val_mean_absolute_error: 14.3140 - val_mean_squared_error: 338.9605\n",
            "Epoch 51/1000\n",
            "22/22 [==============================] - 0s 3ms/step - loss: 293.5008 - mean_absolute_error: 13.5307 - mean_squared_error: 293.5008 - val_loss: 337.1699 - val_mean_absolute_error: 14.2313 - val_mean_squared_error: 337.1699\n",
            "Epoch 52/1000\n",
            "22/22 [==============================] - 0s 3ms/step - loss: 288.1524 - mean_absolute_error: 13.3865 - mean_squared_error: 288.1524 - val_loss: 331.6523 - val_mean_absolute_error: 14.0815 - val_mean_squared_error: 331.6523\n",
            "Epoch 53/1000\n",
            "22/22 [==============================] - 0s 3ms/step - loss: 269.8101 - mean_absolute_error: 12.9527 - mean_squared_error: 269.8101 - val_loss: 332.3321 - val_mean_absolute_error: 14.0507 - val_mean_squared_error: 332.3321\n",
            "Epoch 54/1000\n",
            "22/22 [==============================] - 0s 3ms/step - loss: 270.9070 - mean_absolute_error: 12.9498 - mean_squared_error: 270.9070 - val_loss: 330.8813 - val_mean_absolute_error: 13.9791 - val_mean_squared_error: 330.8813\n",
            "Epoch 55/1000\n",
            "22/22 [==============================] - 0s 3ms/step - loss: 298.5508 - mean_absolute_error: 13.7088 - mean_squared_error: 298.5508 - val_loss: 331.1596 - val_mean_absolute_error: 13.9640 - val_mean_squared_error: 331.1596\n",
            "Epoch 56/1000\n",
            "22/22 [==============================] - 0s 3ms/step - loss: 276.3120 - mean_absolute_error: 13.2269 - mean_squared_error: 276.3120 - val_loss: 324.1841 - val_mean_absolute_error: 13.7959 - val_mean_squared_error: 324.1841\n",
            "Epoch 57/1000\n",
            "22/22 [==============================] - 0s 3ms/step - loss: 243.4569 - mean_absolute_error: 12.1125 - mean_squared_error: 243.4569 - val_loss: 323.5266 - val_mean_absolute_error: 13.7489 - val_mean_squared_error: 323.5266\n",
            "Epoch 58/1000\n",
            "22/22 [==============================] - 0s 3ms/step - loss: 249.2280 - mean_absolute_error: 12.4304 - mean_squared_error: 249.2280 - val_loss: 319.5018 - val_mean_absolute_error: 13.6298 - val_mean_squared_error: 319.5018\n",
            "Epoch 59/1000\n",
            "22/22 [==============================] - 0s 3ms/step - loss: 253.1307 - mean_absolute_error: 12.4695 - mean_squared_error: 253.1307 - val_loss: 318.2534 - val_mean_absolute_error: 13.5458 - val_mean_squared_error: 318.2534\n",
            "Epoch 60/1000\n",
            "22/22 [==============================] - 0s 3ms/step - loss: 260.8817 - mean_absolute_error: 12.5533 - mean_squared_error: 260.8817 - val_loss: 320.0400 - val_mean_absolute_error: 13.6018 - val_mean_squared_error: 320.0400\n",
            "Epoch 61/1000\n",
            "22/22 [==============================] - 0s 4ms/step - loss: 265.3989 - mean_absolute_error: 12.6470 - mean_squared_error: 265.3989 - val_loss: 310.6164 - val_mean_absolute_error: 13.3936 - val_mean_squared_error: 310.6164\n",
            "Epoch 62/1000\n",
            "22/22 [==============================] - 0s 4ms/step - loss: 240.7080 - mean_absolute_error: 12.2516 - mean_squared_error: 240.7080 - val_loss: 323.3346 - val_mean_absolute_error: 13.5376 - val_mean_squared_error: 323.3346\n",
            "Epoch 63/1000\n",
            "22/22 [==============================] - 0s 4ms/step - loss: 257.1622 - mean_absolute_error: 12.6696 - mean_squared_error: 257.1622 - val_loss: 315.5779 - val_mean_absolute_error: 13.3880 - val_mean_squared_error: 315.5779\n",
            "Epoch 64/1000\n",
            "22/22 [==============================] - 0s 4ms/step - loss: 243.6619 - mean_absolute_error: 12.3030 - mean_squared_error: 243.6619 - val_loss: 311.6836 - val_mean_absolute_error: 13.2281 - val_mean_squared_error: 311.6836\n",
            "Epoch 65/1000\n",
            "22/22 [==============================] - 0s 3ms/step - loss: 220.4079 - mean_absolute_error: 11.6793 - mean_squared_error: 220.4079 - val_loss: 308.1359 - val_mean_absolute_error: 13.1847 - val_mean_squared_error: 308.1359\n",
            "Epoch 66/1000\n",
            "22/22 [==============================] - 0s 3ms/step - loss: 224.5203 - mean_absolute_error: 11.5146 - mean_squared_error: 224.5203 - val_loss: 307.9302 - val_mean_absolute_error: 13.2016 - val_mean_squared_error: 307.9302\n",
            "Epoch 67/1000\n",
            "22/22 [==============================] - 0s 3ms/step - loss: 230.1777 - mean_absolute_error: 11.7694 - mean_squared_error: 230.1777 - val_loss: 315.6960 - val_mean_absolute_error: 13.2574 - val_mean_squared_error: 315.6960\n",
            "Epoch 68/1000\n",
            "22/22 [==============================] - 0s 4ms/step - loss: 236.5385 - mean_absolute_error: 11.7712 - mean_squared_error: 236.5385 - val_loss: 305.2651 - val_mean_absolute_error: 13.0782 - val_mean_squared_error: 305.2651\n",
            "Epoch 69/1000\n",
            "22/22 [==============================] - 0s 4ms/step - loss: 225.1686 - mean_absolute_error: 11.7681 - mean_squared_error: 225.1686 - val_loss: 306.2485 - val_mean_absolute_error: 13.0249 - val_mean_squared_error: 306.2485\n",
            "Epoch 70/1000\n",
            "22/22 [==============================] - 0s 3ms/step - loss: 219.5385 - mean_absolute_error: 11.6603 - mean_squared_error: 219.5385 - val_loss: 304.3079 - val_mean_absolute_error: 12.9879 - val_mean_squared_error: 304.3079\n",
            "Epoch 71/1000\n",
            "22/22 [==============================] - 0s 5ms/step - loss: 219.5281 - mean_absolute_error: 11.5229 - mean_squared_error: 219.5281 - val_loss: 302.6550 - val_mean_absolute_error: 12.9638 - val_mean_squared_error: 302.6550\n",
            "Epoch 72/1000\n",
            "22/22 [==============================] - 0s 3ms/step - loss: 208.7982 - mean_absolute_error: 11.1858 - mean_squared_error: 208.7982 - val_loss: 303.6562 - val_mean_absolute_error: 12.9163 - val_mean_squared_error: 303.6562\n",
            "Epoch 73/1000\n",
            "22/22 [==============================] - 0s 4ms/step - loss: 229.7760 - mean_absolute_error: 11.6162 - mean_squared_error: 229.7760 - val_loss: 301.1773 - val_mean_absolute_error: 12.8991 - val_mean_squared_error: 301.1773\n",
            "Epoch 74/1000\n",
            "22/22 [==============================] - 0s 3ms/step - loss: 200.0762 - mean_absolute_error: 10.6914 - mean_squared_error: 200.0762 - val_loss: 305.2782 - val_mean_absolute_error: 12.9264 - val_mean_squared_error: 305.2782\n",
            "Epoch 75/1000\n",
            "22/22 [==============================] - 0s 3ms/step - loss: 237.8650 - mean_absolute_error: 11.9725 - mean_squared_error: 237.8650 - val_loss: 293.8108 - val_mean_absolute_error: 12.7524 - val_mean_squared_error: 293.8108\n",
            "Epoch 76/1000\n",
            "22/22 [==============================] - 0s 3ms/step - loss: 188.3658 - mean_absolute_error: 10.6597 - mean_squared_error: 188.3658 - val_loss: 303.5783 - val_mean_absolute_error: 12.8689 - val_mean_squared_error: 303.5783\n",
            "Epoch 77/1000\n",
            "22/22 [==============================] - 0s 4ms/step - loss: 202.7965 - mean_absolute_error: 10.6944 - mean_squared_error: 202.7965 - val_loss: 298.0217 - val_mean_absolute_error: 12.7162 - val_mean_squared_error: 298.0217\n",
            "Epoch 78/1000\n",
            "22/22 [==============================] - 0s 4ms/step - loss: 185.0276 - mean_absolute_error: 10.5104 - mean_squared_error: 185.0276 - val_loss: 297.9902 - val_mean_absolute_error: 12.6434 - val_mean_squared_error: 297.9902\n",
            "Epoch 79/1000\n",
            "22/22 [==============================] - 0s 3ms/step - loss: 186.6373 - mean_absolute_error: 10.5005 - mean_squared_error: 186.6373 - val_loss: 299.6603 - val_mean_absolute_error: 12.7047 - val_mean_squared_error: 299.6603\n",
            "Epoch 80/1000\n",
            "22/22 [==============================] - 0s 3ms/step - loss: 196.1582 - mean_absolute_error: 10.9229 - mean_squared_error: 196.1582 - val_loss: 294.5710 - val_mean_absolute_error: 12.6232 - val_mean_squared_error: 294.5710\n",
            "Epoch 81/1000\n",
            "22/22 [==============================] - 0s 5ms/step - loss: 180.5773 - mean_absolute_error: 10.1820 - mean_squared_error: 180.5773 - val_loss: 293.5392 - val_mean_absolute_error: 12.5155 - val_mean_squared_error: 293.5392\n",
            "Epoch 82/1000\n",
            "22/22 [==============================] - 0s 3ms/step - loss: 207.4033 - mean_absolute_error: 10.7328 - mean_squared_error: 207.4033 - val_loss: 302.8661 - val_mean_absolute_error: 12.7037 - val_mean_squared_error: 302.8661\n",
            "Epoch 83/1000\n",
            "22/22 [==============================] - 0s 3ms/step - loss: 197.7944 - mean_absolute_error: 10.8833 - mean_squared_error: 197.7944 - val_loss: 291.9980 - val_mean_absolute_error: 12.4093 - val_mean_squared_error: 291.9980\n",
            "Epoch 84/1000\n",
            "22/22 [==============================] - 0s 3ms/step - loss: 185.7399 - mean_absolute_error: 10.3886 - mean_squared_error: 185.7399 - val_loss: 295.5466 - val_mean_absolute_error: 12.4425 - val_mean_squared_error: 295.5466\n",
            "Epoch 85/1000\n",
            "22/22 [==============================] - 0s 4ms/step - loss: 192.4219 - mean_absolute_error: 10.5865 - mean_squared_error: 192.4219 - val_loss: 296.6414 - val_mean_absolute_error: 12.4181 - val_mean_squared_error: 296.6414\n",
            "Epoch 86/1000\n",
            "22/22 [==============================] - 0s 3ms/step - loss: 160.4917 - mean_absolute_error: 9.4157 - mean_squared_error: 160.4917 - val_loss: 287.6848 - val_mean_absolute_error: 12.2738 - val_mean_squared_error: 287.6848\n",
            "Epoch 87/1000\n",
            "22/22 [==============================] - 0s 3ms/step - loss: 192.2964 - mean_absolute_error: 10.2692 - mean_squared_error: 192.2964 - val_loss: 301.7356 - val_mean_absolute_error: 12.5316 - val_mean_squared_error: 301.7356\n",
            "Epoch 88/1000\n",
            "22/22 [==============================] - 0s 3ms/step - loss: 172.6214 - mean_absolute_error: 9.9198 - mean_squared_error: 172.6214 - val_loss: 287.0208 - val_mean_absolute_error: 12.2797 - val_mean_squared_error: 287.0208\n",
            "Epoch 89/1000\n",
            "22/22 [==============================] - 0s 3ms/step - loss: 177.8065 - mean_absolute_error: 9.9639 - mean_squared_error: 177.8065 - val_loss: 282.0754 - val_mean_absolute_error: 12.0937 - val_mean_squared_error: 282.0754\n",
            "Epoch 90/1000\n",
            "22/22 [==============================] - 0s 4ms/step - loss: 182.4627 - mean_absolute_error: 10.0720 - mean_squared_error: 182.4627 - val_loss: 283.8624 - val_mean_absolute_error: 12.0982 - val_mean_squared_error: 283.8624\n",
            "Epoch 91/1000\n",
            "22/22 [==============================] - 0s 4ms/step - loss: 188.5204 - mean_absolute_error: 10.2354 - mean_squared_error: 188.5204 - val_loss: 296.7609 - val_mean_absolute_error: 12.3028 - val_mean_squared_error: 296.7609\n",
            "Epoch 92/1000\n",
            "22/22 [==============================] - 0s 3ms/step - loss: 180.6788 - mean_absolute_error: 9.9641 - mean_squared_error: 180.6788 - val_loss: 280.9589 - val_mean_absolute_error: 12.0145 - val_mean_squared_error: 280.9589\n",
            "Epoch 93/1000\n",
            "22/22 [==============================] - 0s 3ms/step - loss: 160.1513 - mean_absolute_error: 9.7975 - mean_squared_error: 160.1513 - val_loss: 287.9751 - val_mean_absolute_error: 12.1467 - val_mean_squared_error: 287.9751\n",
            "Epoch 94/1000\n",
            "22/22 [==============================] - 0s 3ms/step - loss: 167.6049 - mean_absolute_error: 9.6815 - mean_squared_error: 167.6049 - val_loss: 281.4317 - val_mean_absolute_error: 11.9760 - val_mean_squared_error: 281.4317\n",
            "Epoch 95/1000\n",
            "22/22 [==============================] - 0s 4ms/step - loss: 166.6972 - mean_absolute_error: 9.5935 - mean_squared_error: 166.6972 - val_loss: 286.2603 - val_mean_absolute_error: 12.0517 - val_mean_squared_error: 286.2603\n",
            "Epoch 96/1000\n",
            "22/22 [==============================] - 0s 3ms/step - loss: 161.4340 - mean_absolute_error: 9.6956 - mean_squared_error: 161.4340 - val_loss: 286.8271 - val_mean_absolute_error: 12.0726 - val_mean_squared_error: 286.8271\n",
            "Epoch 97/1000\n",
            "22/22 [==============================] - 0s 3ms/step - loss: 160.3137 - mean_absolute_error: 9.5031 - mean_squared_error: 160.3137 - val_loss: 285.3672 - val_mean_absolute_error: 12.0246 - val_mean_squared_error: 285.3672\n",
            "Epoch 98/1000\n",
            "22/22 [==============================] - 0s 4ms/step - loss: 167.3256 - mean_absolute_error: 9.8957 - mean_squared_error: 167.3256 - val_loss: 281.0329 - val_mean_absolute_error: 11.8835 - val_mean_squared_error: 281.0329\n",
            "Epoch 99/1000\n",
            "22/22 [==============================] - 0s 3ms/step - loss: 153.6304 - mean_absolute_error: 9.3221 - mean_squared_error: 153.6304 - val_loss: 283.3137 - val_mean_absolute_error: 11.9163 - val_mean_squared_error: 283.3137\n",
            "Epoch 100/1000\n",
            "22/22 [==============================] - 0s 4ms/step - loss: 145.9402 - mean_absolute_error: 9.0654 - mean_squared_error: 145.9402 - val_loss: 280.7530 - val_mean_absolute_error: 11.9633 - val_mean_squared_error: 280.7530\n",
            "Epoch 101/1000\n",
            "22/22 [==============================] - 0s 3ms/step - loss: 159.2594 - mean_absolute_error: 9.4063 - mean_squared_error: 159.2594 - val_loss: 273.1037 - val_mean_absolute_error: 11.7391 - val_mean_squared_error: 273.1037\n",
            "Epoch 102/1000\n",
            "22/22 [==============================] - 0s 3ms/step - loss: 155.6037 - mean_absolute_error: 9.2099 - mean_squared_error: 155.6037 - val_loss: 278.8428 - val_mean_absolute_error: 11.9443 - val_mean_squared_error: 278.8428\n",
            "Epoch 103/1000\n",
            "22/22 [==============================] - 0s 4ms/step - loss: 153.7087 - mean_absolute_error: 9.3106 - mean_squared_error: 153.7087 - val_loss: 280.2563 - val_mean_absolute_error: 11.8862 - val_mean_squared_error: 280.2563\n",
            "Epoch 104/1000\n",
            "22/22 [==============================] - 0s 3ms/step - loss: 142.1306 - mean_absolute_error: 8.7712 - mean_squared_error: 142.1306 - val_loss: 281.6150 - val_mean_absolute_error: 11.9024 - val_mean_squared_error: 281.6150\n",
            "Epoch 105/1000\n",
            "22/22 [==============================] - 0s 3ms/step - loss: 140.0990 - mean_absolute_error: 8.9824 - mean_squared_error: 140.0990 - val_loss: 277.5828 - val_mean_absolute_error: 11.9010 - val_mean_squared_error: 277.5828\n",
            "Epoch 106/1000\n",
            "22/22 [==============================] - 0s 3ms/step - loss: 128.5099 - mean_absolute_error: 8.2752 - mean_squared_error: 128.5099 - val_loss: 283.4190 - val_mean_absolute_error: 11.9409 - val_mean_squared_error: 283.4190\n",
            "Epoch 107/1000\n",
            "22/22 [==============================] - 0s 3ms/step - loss: 154.1537 - mean_absolute_error: 9.0680 - mean_squared_error: 154.1537 - val_loss: 278.8806 - val_mean_absolute_error: 11.9117 - val_mean_squared_error: 278.8806\n",
            "Epoch 108/1000\n",
            "22/22 [==============================] - 0s 3ms/step - loss: 155.7200 - mean_absolute_error: 9.0565 - mean_squared_error: 155.7200 - val_loss: 276.8000 - val_mean_absolute_error: 11.8613 - val_mean_squared_error: 276.8000\n",
            "Epoch 109/1000\n",
            "22/22 [==============================] - 0s 3ms/step - loss: 144.1405 - mean_absolute_error: 9.0015 - mean_squared_error: 144.1405 - val_loss: 281.3640 - val_mean_absolute_error: 11.9356 - val_mean_squared_error: 281.3640\n",
            "Epoch 110/1000\n",
            "22/22 [==============================] - 0s 3ms/step - loss: 138.4624 - mean_absolute_error: 8.9705 - mean_squared_error: 138.4624 - val_loss: 282.1595 - val_mean_absolute_error: 11.9827 - val_mean_squared_error: 282.1595\n",
            "Epoch 111/1000\n",
            "22/22 [==============================] - 0s 4ms/step - loss: 133.6752 - mean_absolute_error: 8.5779 - mean_squared_error: 133.6752 - val_loss: 284.8940 - val_mean_absolute_error: 12.0125 - val_mean_squared_error: 284.8940\n"
          ],
          "name": "stdout"
        }
      ]
    },
    {
      "cell_type": "markdown",
      "metadata": {
        "id": "Sd9zz2b8skgL"
      },
      "source": [
        ""
      ]
    },
    {
      "cell_type": "code",
      "metadata": {
        "id": "XquYvvbBb4fV",
        "colab": {
          "base_uri": "https://localhost:8080/"
        },
        "outputId": "6e554981-5a70-44cd-91a9-0bdbc71b336f"
      },
      "source": [
        "## Optional checking the history from the trained set\n",
        "model.summary()\n",
        "hist = pd.DataFrame(history.history)\n",
        "hist['epoch'] = history.epoch\n",
        "hist.tail()"
      ],
      "execution_count": null,
      "outputs": [
        {
          "output_type": "stream",
          "text": [
            "Model: \"sequential\"\n",
            "_________________________________________________________________\n",
            "Layer (type)                 Output Shape              Param #   \n",
            "=================================================================\n",
            "module_wrapper (ModuleWrappe (None, 8)                 0         \n",
            "_________________________________________________________________\n",
            "module_wrapper_1 (ModuleWrap (None, 32)                288       \n",
            "_________________________________________________________________\n",
            "module_wrapper_2 (ModuleWrap (None, 224)               7392      \n",
            "_________________________________________________________________\n",
            "module_wrapper_3 (ModuleWrap (None, 1)                 225       \n",
            "=================================================================\n",
            "Total params: 7,905\n",
            "Trainable params: 7,905\n",
            "Non-trainable params: 0\n",
            "_________________________________________________________________\n"
          ],
          "name": "stdout"
        },
        {
          "output_type": "execute_result",
          "data": {
            "text/html": [
              "<div>\n",
              "<style scoped>\n",
              "    .dataframe tbody tr th:only-of-type {\n",
              "        vertical-align: middle;\n",
              "    }\n",
              "\n",
              "    .dataframe tbody tr th {\n",
              "        vertical-align: top;\n",
              "    }\n",
              "\n",
              "    .dataframe thead th {\n",
              "        text-align: right;\n",
              "    }\n",
              "</style>\n",
              "<table border=\"1\" class=\"dataframe\">\n",
              "  <thead>\n",
              "    <tr style=\"text-align: right;\">\n",
              "      <th></th>\n",
              "      <th>loss</th>\n",
              "      <th>mean_absolute_error</th>\n",
              "      <th>mean_squared_error</th>\n",
              "      <th>val_loss</th>\n",
              "      <th>val_mean_absolute_error</th>\n",
              "      <th>val_mean_squared_error</th>\n",
              "      <th>epoch</th>\n",
              "    </tr>\n",
              "  </thead>\n",
              "  <tbody>\n",
              "    <tr>\n",
              "      <th>106</th>\n",
              "      <td>147.422226</td>\n",
              "      <td>9.028905</td>\n",
              "      <td>147.422226</td>\n",
              "      <td>278.880646</td>\n",
              "      <td>11.911683</td>\n",
              "      <td>278.880646</td>\n",
              "      <td>106</td>\n",
              "    </tr>\n",
              "    <tr>\n",
              "      <th>107</th>\n",
              "      <td>146.485046</td>\n",
              "      <td>8.977401</td>\n",
              "      <td>146.485046</td>\n",
              "      <td>276.800018</td>\n",
              "      <td>11.861273</td>\n",
              "      <td>276.800018</td>\n",
              "      <td>107</td>\n",
              "    </tr>\n",
              "    <tr>\n",
              "      <th>108</th>\n",
              "      <td>144.434036</td>\n",
              "      <td>8.945398</td>\n",
              "      <td>144.434036</td>\n",
              "      <td>281.363983</td>\n",
              "      <td>11.935559</td>\n",
              "      <td>281.363983</td>\n",
              "      <td>108</td>\n",
              "    </tr>\n",
              "    <tr>\n",
              "      <th>109</th>\n",
              "      <td>143.589432</td>\n",
              "      <td>8.898923</td>\n",
              "      <td>143.589432</td>\n",
              "      <td>282.159515</td>\n",
              "      <td>11.982672</td>\n",
              "      <td>282.159515</td>\n",
              "      <td>109</td>\n",
              "    </tr>\n",
              "    <tr>\n",
              "      <th>110</th>\n",
              "      <td>142.055389</td>\n",
              "      <td>8.878694</td>\n",
              "      <td>142.055389</td>\n",
              "      <td>284.893982</td>\n",
              "      <td>12.012546</td>\n",
              "      <td>284.893982</td>\n",
              "      <td>110</td>\n",
              "    </tr>\n",
              "  </tbody>\n",
              "</table>\n",
              "</div>"
            ],
            "text/plain": [
              "           loss  mean_absolute_error  ...  val_mean_squared_error  epoch\n",
              "106  147.422226             9.028905  ...              278.880646    106\n",
              "107  146.485046             8.977401  ...              276.800018    107\n",
              "108  144.434036             8.945398  ...              281.363983    108\n",
              "109  143.589432             8.898923  ...              282.159515    109\n",
              "110  142.055389             8.878694  ...              284.893982    110\n",
              "\n",
              "[5 rows x 7 columns]"
            ]
          },
          "metadata": {
            "tags": []
          },
          "execution_count": 13
        }
      ]
    },
    {
      "cell_type": "code",
      "metadata": {
        "id": "XgiNmmrFb4fW",
        "colab": {
          "base_uri": "https://localhost:8080/",
          "height": 686
        },
        "outputId": "4ed5186e-1f28-49a8-e8fe-c74c136ac60b"
      },
      "source": [
        "def plot_history(history):\n",
        "  hist = pd.DataFrame(history.history)\n",
        "  hist['epoch'] = history.epoch\n",
        "\n",
        "  plt.figure(figsize=(5,5))\n",
        "  plt.xlabel('Epoch')\n",
        "  plt.ylabel('Mean Abs Error ($M_\\oplus$)')\n",
        "  plt.plot(hist['epoch'], hist['mean_absolute_error'],\n",
        "           label='Train ')\n",
        "  plt.plot(hist['epoch'], hist['val_mean_absolute_error'],alpha=0.5,\n",
        "           label = 'Val Error')\n",
        "  plt.ylim([0,30])\n",
        "  plt.legend()\n",
        "\n",
        "  plt.figure(figsize=(5,5))\n",
        "  plt.xlabel('Epoch')\n",
        "  plt.ylabel('Mean Square Error ($M_\\oplus^2$)')\n",
        "  plt.plot(hist['epoch'], hist['mean_squared_error'],\n",
        "           label='Train')\n",
        "  plt.plot(hist['epoch'], hist['val_mean_squared_error'],alpha=0.5,\n",
        "           label = 'Validation ')\n",
        "  plt.ylim([0,1200])\n",
        "#   plt.xlim([0,700])\n",
        "#   plt.yscale(\"log\")\n",
        "  plt.legend()\n",
        "  plt.tick_params(labelsize=10)\n",
        "  plt.tick_params(axis='both', which='major',length=6, width=2)\n",
        "  plt.tick_params(axis='both', which='minor',length=3, width=1.3)  \n",
        "  plt.tight_layout()\n",
        "  plt.savefig('figures/validation_loss.pdf',format='pdf',dpi=300)\n",
        "  plt.show()\n",
        "\n",
        "  \n",
        "plot_history(history)"
      ],
      "execution_count": null,
      "outputs": [
        {
          "output_type": "display_data",
          "data": {
            "image/png": "[encoded data removed]",
            "text/plain": [
              "<Figure size 360x360 with 1 Axes>"
            ]
          },
          "metadata": {
            "tags": [],
            "needs_background": "light"
          }
        },
        {
          "output_type": "display_data",
          "data": {
            "image/png": "[encoded data removed]",
            "text/plain": [
              "<Figure size 360x360 with 1 Axes>"
            ]
          },
          "metadata": {
            "tags": [],
            "needs_background": "light"
          }
        }
      ]
    },
    {
      "cell_type": "code",
      "metadata": {
        "id": "iBUkIEcYb4fW",
        "colab": {
          "base_uri": "https://localhost:8080/"
        },
        "outputId": "bbb2be8d-c519-4f07-edc4-00e16e57b52b"
      },
      "source": [
        "loss, mae, mse = model.evaluate(X_test_scaled, y_test, verbose=0)\n",
        "print(\"Testing set Mean Square Error: {:5.2f} \".format(mse))\n",
        "print(\"Testing set Root Mean Square Error: {:5.2f} M_Earth\".format(np.sqrt(mse)))\n",
        "print(\"Testing set Mean Abs Error: {:5.2f} M_Earth\".format(mae))\n",
        "print(\"Testing set Loss : {:5.2f} M_Earth\".format(loss))"
      ],
      "execution_count": null,
      "outputs": [
        {
          "output_type": "stream",
          "text": [
            "Testing set Mean Square Error: 185.83 \n",
            "Testing set Root Mean Square Error: 13.63 M_Earth\n",
            "Testing set Mean Abs Error: 10.68 M_Earth\n",
            "Testing set Loss : 185.83 M_Earth\n"
          ],
          "name": "stdout"
        }
      ]
    },
    {
      "cell_type": "code",
      "metadata": {
        "id": "J5A6jgars0Ey"
      },
      "source": [
        "## Use list comprehension tp predict over the test dataset for 10 times.\n",
        "yhat = [model.predict(X_test_scaled).flatten() for _ in range(10)]"
      ],
      "execution_count": null,
      "outputs": []
    },
    {
      "cell_type": "markdown",
      "metadata": {
        "id": "2LvLZ-8LZ-M_"
      },
      "source": [
        "## Predcited vs Actually mass plot"
      ]
    },
    {
      "cell_type": "code",
      "metadata": {
        "id": "Emh8GIGvtGRj",
        "colab": {
          "base_uri": "https://localhost:8080/"
        },
        "outputId": "b4e96a0f-c35a-4940-d5e9-87e091ae2561"
      },
      "source": [
        "df  =pd.DataFrame(yhat).T\n",
        "df['y'] = y_test.values\n",
        "df.head()"
      ],
      "execution_count": null,
      "outputs": [
        {
          "output_type": "execute_result",
          "data": {
            "text/html": [
              "<div>\n",
              "<style scoped>\n",
              "    .dataframe tbody tr th:only-of-type {\n",
              "        vertical-align: middle;\n",
              "    }\n",
              "\n",
              "    .dataframe tbody tr th {\n",
              "        vertical-align: top;\n",
              "    }\n",
              "\n",
              "    .dataframe thead th {\n",
              "        text-align: right;\n",
              "    }\n",
              "</style>\n",
              "<table border=\"1\" class=\"dataframe\">\n",
              "  <thead>\n",
              "    <tr style=\"text-align: right;\">\n",
              "      <th></th>\n",
              "      <th>0</th>\n",
              "      <th>1</th>\n",
              "      <th>2</th>\n",
              "      <th>3</th>\n",
              "      <th>4</th>\n",
              "      <th>5</th>\n",
              "      <th>6</th>\n",
              "      <th>7</th>\n",
              "      <th>8</th>\n",
              "      <th>9</th>\n",
              "      <th>y</th>\n",
              "    </tr>\n",
              "  </thead>\n",
              "  <tbody>\n",
              "    <tr>\n",
              "      <th>0</th>\n",
              "      <td>15.393574</td>\n",
              "      <td>15.393574</td>\n",
              "      <td>15.393574</td>\n",
              "      <td>15.393574</td>\n",
              "      <td>15.393574</td>\n",
              "      <td>15.393574</td>\n",
              "      <td>15.393574</td>\n",
              "      <td>15.393574</td>\n",
              "      <td>15.393574</td>\n",
              "      <td>15.393574</td>\n",
              "      <td>27.866667</td>\n",
              "    </tr>\n",
              "    <tr>\n",
              "      <th>1</th>\n",
              "      <td>73.352875</td>\n",
              "      <td>73.352875</td>\n",
              "      <td>73.352875</td>\n",
              "      <td>73.352875</td>\n",
              "      <td>73.352875</td>\n",
              "      <td>73.352875</td>\n",
              "      <td>73.352875</td>\n",
              "      <td>73.352875</td>\n",
              "      <td>73.352875</td>\n",
              "      <td>73.352875</td>\n",
              "      <td>73.333333</td>\n",
              "    </tr>\n",
              "    <tr>\n",
              "      <th>2</th>\n",
              "      <td>95.798721</td>\n",
              "      <td>95.798721</td>\n",
              "      <td>95.798721</td>\n",
              "      <td>95.798721</td>\n",
              "      <td>95.798721</td>\n",
              "      <td>95.798721</td>\n",
              "      <td>95.798721</td>\n",
              "      <td>95.798721</td>\n",
              "      <td>95.798721</td>\n",
              "      <td>95.798721</td>\n",
              "      <td>92.333333</td>\n",
              "    </tr>\n",
              "    <tr>\n",
              "      <th>3</th>\n",
              "      <td>52.395618</td>\n",
              "      <td>52.395618</td>\n",
              "      <td>52.395618</td>\n",
              "      <td>52.395618</td>\n",
              "      <td>52.395618</td>\n",
              "      <td>52.395618</td>\n",
              "      <td>52.395618</td>\n",
              "      <td>52.395618</td>\n",
              "      <td>52.395618</td>\n",
              "      <td>52.395618</td>\n",
              "      <td>39.000000</td>\n",
              "    </tr>\n",
              "    <tr>\n",
              "      <th>4</th>\n",
              "      <td>107.208374</td>\n",
              "      <td>107.208374</td>\n",
              "      <td>107.208374</td>\n",
              "      <td>107.208374</td>\n",
              "      <td>107.208374</td>\n",
              "      <td>107.208374</td>\n",
              "      <td>107.208374</td>\n",
              "      <td>107.208374</td>\n",
              "      <td>107.208374</td>\n",
              "      <td>107.208374</td>\n",
              "      <td>119.000000</td>\n",
              "    </tr>\n",
              "  </tbody>\n",
              "</table>\n",
              "</div>"
            ],
            "text/plain": [
              "            0           1           2  ...           8           9           y\n",
              "0   15.393574   15.393574   15.393574  ...   15.393574   15.393574   27.866667\n",
              "1   73.352875   73.352875   73.352875  ...   73.352875   73.352875   73.333333\n",
              "2   95.798721   95.798721   95.798721  ...   95.798721   95.798721   92.333333\n",
              "3   52.395618   52.395618   52.395618  ...   52.395618   52.395618   39.000000\n",
              "4  107.208374  107.208374  107.208374  ...  107.208374  107.208374  119.000000\n",
              "\n",
              "[5 rows x 11 columns]"
            ]
          },
          "metadata": {
            "tags": []
          },
          "execution_count": 17
        }
      ]
    },
    {
      "cell_type": "code",
      "metadata": {
        "id": "DpNOp0dYyxdp"
      },
      "source": [
        "import itertools\n",
        "sample_preds = list(itertools.chain.from_iterable([[(j,x[-1]) for j in x if j != x[-1]]for x in df .values]))"
      ],
      "execution_count": null,
      "outputs": []
    },
    {
      "cell_type": "code",
      "metadata": {
        "id": "_JQ9ujT3zSLg",
        "colab": {
          "base_uri": "https://localhost:8080/"
        },
        "outputId": "50f9ef51-f186-4efe-a210-03e4f4e50c49"
      },
      "source": [
        "sample_preds[:15]"
      ],
      "execution_count": null,
      "outputs": [
        {
          "output_type": "execute_result",
          "data": {
            "text/plain": [
              "[(15.393573760986328, 27.866666666666667),\n",
              " (15.393573760986328, 27.866666666666667),\n",
              " (15.393573760986328, 27.866666666666667),\n",
              " (15.393573760986328, 27.866666666666667),\n",
              " (15.393573760986328, 27.866666666666667),\n",
              " (15.393573760986328, 27.866666666666667),\n",
              " (15.393573760986328, 27.866666666666667),\n",
              " (15.393573760986328, 27.866666666666667),\n",
              " (15.393573760986328, 27.866666666666667),\n",
              " (15.393573760986328, 27.866666666666667),\n",
              " (73.35287475585938, 73.33333333333333),\n",
              " (73.35287475585938, 73.33333333333333),\n",
              " (73.35287475585938, 73.33333333333333),\n",
              " (73.35287475585938, 73.33333333333333),\n",
              " (73.35287475585938, 73.33333333333333)]"
            ]
          },
          "metadata": {
            "tags": []
          },
          "execution_count": 19
        }
      ]
    },
    {
      "cell_type": "code",
      "metadata": {
        "id": "Q3VeXGD4b4fX",
        "colab": {
          "base_uri": "https://localhost:8080/",
          "height": 390
        },
        "outputId": "64e14d83-496f-4e70-88e4-2152cd5abe1d"
      },
      "source": [
        "plt.style.use('classic')\n",
        "plt.figure(figsize = (5,5))\n",
        "# test_predictions = model.predict(normed_test_data).flatten()\n",
        "# plt.scatter(test_labels, test_predictions,s=30,marker='d',color='r')\n",
        "plt.scatter([x[1] for x in sample_preds],[x[0] for x in sample_preds],alpha = 0.01,c = 'r')\n",
        "plt.xlabel(r'True values of planet mass($M_\\oplus$)', fontsize=15)\n",
        "plt.ylabel(r'Predicted planet mass($M_\\oplus$)',fontsize=15)\n",
        "plt.axis('equal')\n",
        "plt.axis('square')\n",
        "plt.xlim(5,135)\n",
        "plt.ylim(5,135)\n",
        "# plt.xlim([0.6,plt.xlim()[1]])\n",
        "# plt.ylim([0.6,plt.xlim()[1]])\n",
        "_ = plt.plot([0, 130], [0, 130],linewidth=2,c='k')\n",
        "\n",
        "plt.minorticks_on() \n",
        "plt.tick_params(labelsize=15)\n",
        "plt.tick_params(axis='both', which='major',length=6, width=2)\n",
        "plt.tick_params(axis='both', which='minor',length=3, width=1.3)\n",
        "plt.tight_layout()\n",
        "plt.savefig('figures/predicted_correlation.pdf',format='pdf',dpi=300)\n",
        "# plt.savefig('predicted_correlation.eps',format='eps',dpi=300)\n"
      ],
      "execution_count": null,
      "outputs": [
        {
          "output_type": "display_data",
          "data": {
            "image/png": "[encoded data removed]",
            "text/plain": [
              "<Figure size 400x400 with 1 Axes>"
            ]
          },
          "metadata": {
            "tags": []
          }
        }
      ]
    },
    {
      "cell_type": "code",
      "metadata": {
        "id": "WYNCTmSZb4fY"
      },
      "source": [
        "# # THE SD is the mean of the root mean square error (root of MSE)\n",
        "# SD = np.sqrt(mse)"
      ],
      "execution_count": null,
      "outputs": []
    },
    {
      "cell_type": "code",
      "metadata": {
        "id": "NwH_Nbp-b4fY",
        "colab": {
          "base_uri": "https://localhost:8080/"
        },
        "outputId": "86eb9243-485d-4557-d205-deb455e7dd3a"
      },
      "source": [
        "## One test case for the demonstration in the paper\n",
        "test_index = 120\n",
        "# print(test_dataset.iloc[[test_index]])\n",
        "print(\"Actual Planet Mass is \", y_test.iloc[[test_index]])\n",
        "X_test_scaled.iloc[[4]]\n",
        "print(\"Predicted Planet Mass is \" , model.predict(X_test_scaled.iloc[[test_index]]))"
      ],
      "execution_count": null,
      "outputs": [
        {
          "output_type": "stream",
          "text": [
            "Actual Planet Mass is  1078    92.666667\n",
            "Name: Planet_Mass, dtype: float64\n",
            "Predicted Planet Mass is  [[76.59602]]\n"
          ],
          "name": "stdout"
        }
      ]
    },
    {
      "cell_type": "code",
      "metadata": {
        "id": "A0iNhWnH5Vb_"
      },
      "source": [
        ""
      ],
      "execution_count": null,
      "outputs": []
    }
  ]
}